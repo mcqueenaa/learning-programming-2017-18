{
  "nbformat": 4,
  "nbformat_minor": 0,
  "metadata": {
    "colab": {
      "name": "morpho_disamb.ipynb",
      "version": "0.3.2",
      "provenance": []
    },
    "kernelspec": {
      "name": "python3",
      "display_name": "Python 3"
    },
    "accelerator": "GPU"
  },
  "cells": [
    {
      "cell_type": "code",
      "metadata": {
        "id": "VquiCEspxajs",
        "colab_type": "code",
        "colab": {}
      },
      "source": [
        "from collections import Counter\n",
        "import numpy as np"
      ],
      "execution_count": 0,
      "outputs": []
    },
    {
      "cell_type": "code",
      "metadata": {
        "id": "QJSOrmGM80vJ",
        "colab_type": "code",
        "outputId": "2fd8f43b-446d-4eb4-ad08-731e6443ff1e",
        "colab": {
          "base_uri": "https://localhost:8080/",
          "height": 277
        }
      },
      "source": [
        "!wget http://www.cis.uni-muenchen.de/~schmid/tools/TreeTagger/data/tree-tagger-linux-3.2.2.tar.gz"
      ],
      "execution_count": 2,
      "outputs": [
        {
          "output_type": "stream",
          "text": [
            "--2019-06-08 20:27:20--  http://www.cis.uni-muenchen.de/~schmid/tools/TreeTagger/data/tree-tagger-linux-3.2.2.tar.gz\n",
            "Resolving www.cis.uni-muenchen.de (www.cis.uni-muenchen.de)... 129.187.148.72, 2001:4ca0:4f01::5\n",
            "Connecting to www.cis.uni-muenchen.de (www.cis.uni-muenchen.de)|129.187.148.72|:80... connected.\n",
            "HTTP request sent, awaiting response... 302 Found\n",
            "Location: https://www.cis.uni-muenchen.de/~schmid/tools/TreeTagger/data/tree-tagger-linux-3.2.2.tar.gz [following]\n",
            "--2019-06-08 20:27:20--  https://www.cis.uni-muenchen.de/~schmid/tools/TreeTagger/data/tree-tagger-linux-3.2.2.tar.gz\n",
            "Connecting to www.cis.uni-muenchen.de (www.cis.uni-muenchen.de)|129.187.148.72|:443... connected.\n",
            "HTTP request sent, awaiting response... 200 OK\n",
            "Length: 1821366 (1.7M) [application/x-gzip]\n",
            "Saving to: ‘tree-tagger-linux-3.2.2.tar.gz’\n",
            "\n",
            "tree-tagger-linux-3 100%[===================>]   1.74M  2.52MB/s    in 0.7s    \n",
            "\n",
            "2019-06-08 20:27:21 (2.52 MB/s) - ‘tree-tagger-linux-3.2.2.tar.gz’ saved [1821366/1821366]\n",
            "\n"
          ],
          "name": "stdout"
        }
      ]
    },
    {
      "cell_type": "code",
      "metadata": {
        "id": "uAH8K4T_5z8o",
        "colab_type": "code",
        "outputId": "2bbbcec2-f93b-4679-c606-e6ea3a851d6f",
        "colab": {
          "base_uri": "https://localhost:8080/",
          "height": 277
        }
      },
      "source": [
        "!wget http://www.cis.uni-muenchen.de/~schmid/tools/TreeTagger/data/tagger-scripts.tar.gz"
      ],
      "execution_count": 3,
      "outputs": [
        {
          "output_type": "stream",
          "text": [
            "--2019-06-08 20:27:27--  http://www.cis.uni-muenchen.de/~schmid/tools/TreeTagger/data/tagger-scripts.tar.gz\n",
            "Resolving www.cis.uni-muenchen.de (www.cis.uni-muenchen.de)... 129.187.148.72, 2001:4ca0:4f01::5\n",
            "Connecting to www.cis.uni-muenchen.de (www.cis.uni-muenchen.de)|129.187.148.72|:80... connected.\n",
            "HTTP request sent, awaiting response... 302 Found\n",
            "Location: https://www.cis.uni-muenchen.de/~schmid/tools/TreeTagger/data/tagger-scripts.tar.gz [following]\n",
            "--2019-06-08 20:27:27--  https://www.cis.uni-muenchen.de/~schmid/tools/TreeTagger/data/tagger-scripts.tar.gz\n",
            "Connecting to www.cis.uni-muenchen.de (www.cis.uni-muenchen.de)|129.187.148.72|:443... connected.\n",
            "HTTP request sent, awaiting response... 200 OK\n",
            "Length: 101810 (99K) [application/x-gzip]\n",
            "Saving to: ‘tagger-scripts.tar.gz’\n",
            "\n",
            "tagger-scripts.tar. 100%[===================>]  99.42K   432KB/s    in 0.2s    \n",
            "\n",
            "2019-06-08 20:27:28 (432 KB/s) - ‘tagger-scripts.tar.gz’ saved [101810/101810]\n",
            "\n"
          ],
          "name": "stdout"
        }
      ]
    },
    {
      "cell_type": "code",
      "metadata": {
        "id": "8SJ8rbYf5z-e",
        "colab_type": "code",
        "outputId": "004ac9ad-af15-4fde-add1-844cdd11caad",
        "colab": {
          "base_uri": "https://localhost:8080/",
          "height": 277
        }
      },
      "source": [
        "!wget http://www.cis.uni-muenchen.de/~schmid/tools/TreeTagger/data/install-tagger.sh"
      ],
      "execution_count": 4,
      "outputs": [
        {
          "output_type": "stream",
          "text": [
            "--2019-06-08 20:27:32--  http://www.cis.uni-muenchen.de/~schmid/tools/TreeTagger/data/install-tagger.sh\n",
            "Resolving www.cis.uni-muenchen.de (www.cis.uni-muenchen.de)... 129.187.148.72, 2001:4ca0:4f01::5\n",
            "Connecting to www.cis.uni-muenchen.de (www.cis.uni-muenchen.de)|129.187.148.72|:80... connected.\n",
            "HTTP request sent, awaiting response... 302 Found\n",
            "Location: https://www.cis.uni-muenchen.de/~schmid/tools/TreeTagger/data/install-tagger.sh [following]\n",
            "--2019-06-08 20:27:32--  https://www.cis.uni-muenchen.de/~schmid/tools/TreeTagger/data/install-tagger.sh\n",
            "Connecting to www.cis.uni-muenchen.de (www.cis.uni-muenchen.de)|129.187.148.72|:443... connected.\n",
            "HTTP request sent, awaiting response... 200 OK\n",
            "Length: 12409 (12K) [application/x-shellscript]\n",
            "Saving to: ‘install-tagger.sh’\n",
            "\n",
            "install-tagger.sh   100%[===================>]  12.12K  --.-KB/s    in 0s      \n",
            "\n",
            "2019-06-08 20:27:32 (242 MB/s) - ‘install-tagger.sh’ saved [12409/12409]\n",
            "\n"
          ],
          "name": "stdout"
        }
      ]
    },
    {
      "cell_type": "code",
      "metadata": {
        "id": "n__NxBzk50DC",
        "colab_type": "code",
        "outputId": "134d65a8-8401-4c34-eb65-b024abb9e729",
        "colab": {
          "base_uri": "https://localhost:8080/",
          "height": 277
        }
      },
      "source": [
        "!wget http://www.cis.uni-muenchen.de/~schmid/tools/TreeTagger/data/russian.par.gz"
      ],
      "execution_count": 5,
      "outputs": [
        {
          "output_type": "stream",
          "text": [
            "--2019-06-08 20:27:36--  http://www.cis.uni-muenchen.de/~schmid/tools/TreeTagger/data/russian.par.gz\n",
            "Resolving www.cis.uni-muenchen.de (www.cis.uni-muenchen.de)... 129.187.148.72, 2001:4ca0:4f01::5\n",
            "Connecting to www.cis.uni-muenchen.de (www.cis.uni-muenchen.de)|129.187.148.72|:80... connected.\n",
            "HTTP request sent, awaiting response... 302 Found\n",
            "Location: https://www.cis.uni-muenchen.de/~schmid/tools/TreeTagger/data/russian.par.gz [following]\n",
            "--2019-06-08 20:27:36--  https://www.cis.uni-muenchen.de/~schmid/tools/TreeTagger/data/russian.par.gz\n",
            "Connecting to www.cis.uni-muenchen.de (www.cis.uni-muenchen.de)|129.187.148.72|:443... connected.\n",
            "HTTP request sent, awaiting response... 200 OK\n",
            "Length: 115748255 (110M) [application/x-gzip]\n",
            "Saving to: ‘russian.par.gz’\n",
            "\n",
            "russian.par.gz      100%[===================>] 110.39M  25.4MB/s    in 5.0s    \n",
            "\n",
            "2019-06-08 20:27:42 (21.9 MB/s) - ‘russian.par.gz’ saved [115748255/115748255]\n",
            "\n"
          ],
          "name": "stdout"
        }
      ]
    },
    {
      "cell_type": "code",
      "metadata": {
        "id": "Y_Zl4nv050G0",
        "colab_type": "code",
        "outputId": "f1f077d2-2014-478b-94dc-f2547958869a",
        "colab": {
          "base_uri": "https://localhost:8080/",
          "height": 176
        }
      },
      "source": [
        "!sh install-tagger.sh"
      ],
      "execution_count": 6,
      "outputs": [
        {
          "output_type": "stream",
          "text": [
            "\n",
            "TreeTagger version for PC-Linux installed.\n",
            "Tagging scripts installed.\n",
            "Russian parameter file installed.\n",
            "Path variables modified in tagging scripts.\n",
            "\n",
            "You might want to add /content/cmd and /content/bin to the PATH variable so that you do not need to specify the full path to run the tagging scripts.\n",
            "\n"
          ],
          "name": "stdout"
        }
      ]
    },
    {
      "cell_type": "code",
      "metadata": {
        "id": "opn4plRc50Ij",
        "colab_type": "code",
        "outputId": "ce105405-f064-4fca-9f13-6e41f0758804",
        "colab": {
          "base_uri": "https://localhost:8080/",
          "height": 156
        }
      },
      "source": [
        "!echo 'Я хочу съесть яблоко!' | cmd/tree-tagger-russian "
      ],
      "execution_count": 7,
      "outputs": [
        {
          "output_type": "stream",
          "text": [
            "\treading parameters ...\n",
            "\ttagging ...\n",
            "Я\tP-1-snn\tя\n",
            "хочу\tVmip1s-a-e\tхотеть\n",
            "съесть\tVmn----a-p\tсъесть\n",
            "яблоко\tNcnsan\tяблоко\n",
            "!\tSENT\t!\n",
            "\t finished.\n"
          ],
          "name": "stdout"
        }
      ]
    },
    {
      "cell_type": "code",
      "metadata": {
        "id": "M0V-1lxg50NF",
        "colab_type": "code",
        "outputId": "ec8d63c3-8da5-4115-b5aa-5544b265b0bd",
        "colab": {
          "base_uri": "https://localhost:8080/",
          "height": 208
        }
      },
      "source": [
        "!wget http://opencorpora.org/files/export/annot/annot.opcorpora.no_ambig_strict.xml.zip"
      ],
      "execution_count": 8,
      "outputs": [
        {
          "output_type": "stream",
          "text": [
            "--2019-06-08 20:27:59--  http://opencorpora.org/files/export/annot/annot.opcorpora.no_ambig_strict.xml.zip\n",
            "Resolving opencorpora.org (opencorpora.org)... 148.251.2.141\n",
            "Connecting to opencorpora.org (opencorpora.org)|148.251.2.141|:80... connected.\n",
            "HTTP request sent, awaiting response... 200 OK\n",
            "Length: 2194522 (2.1M) [application/zip]\n",
            "Saving to: ‘annot.opcorpora.no_ambig_strict.xml.zip’\n",
            "\n",
            "annot.opcorpora.no_ 100%[===================>]   2.09M  2.69MB/s    in 0.8s    \n",
            "\n",
            "2019-06-08 20:28:00 (2.69 MB/s) - ‘annot.opcorpora.no_ambig_strict.xml.zip’ saved [2194522/2194522]\n",
            "\n"
          ],
          "name": "stdout"
        }
      ]
    },
    {
      "cell_type": "code",
      "metadata": {
        "id": "JHLr7nmv-F3c",
        "colab_type": "code",
        "outputId": "8ea23e6c-9323-49b4-807a-20771256a4a9",
        "colab": {
          "base_uri": "https://localhost:8080/",
          "height": 52
        }
      },
      "source": [
        "!unzip annot.opcorpora.no_ambig_strict.xml.zip"
      ],
      "execution_count": 9,
      "outputs": [
        {
          "output_type": "stream",
          "text": [
            "Archive:  annot.opcorpora.no_ambig_strict.xml.zip\n",
            "  inflating: annot.opcorpora.no_ambig_strict.xml  \n"
          ],
          "name": "stdout"
        }
      ]
    },
    {
      "cell_type": "code",
      "metadata": {
        "id": "dh8OpwE5-F6h",
        "colab_type": "code",
        "colab": {}
      },
      "source": [
        "from lxml import etree\n",
        "from collections import defaultdict"
      ],
      "execution_count": 0,
      "outputs": []
    },
    {
      "cell_type": "code",
      "metadata": {
        "id": "GCuVu_w9-bC2",
        "colab_type": "code",
        "colab": {}
      },
      "source": [
        "open_corpora = etree.fromstring(open('annot.opcorpora.no_ambig_strict.xml', 'rb').read())"
      ],
      "execution_count": 0,
      "outputs": []
    },
    {
      "cell_type": "code",
      "metadata": {
        "id": "PWp7bYeD-bEg",
        "colab_type": "code",
        "colab": {}
      },
      "source": [
        "corpus = open('corpus_train.txt', 'w')\n",
        "vocab = defaultdict(set)\n",
        "tags = set()\n",
        "c_tags = []\n",
        "\n",
        "for sentence in open_corpora.xpath('//tokens'):\n",
        "    length = len(sentence.xpath('token'))\n",
        "    ended = False\n",
        "    for i,token in enumerate(sentence.xpath('token')):\n",
        "        word = token.xpath('@text')\n",
        "        gram_info = token.xpath('tfr/v/l/g/@v')\n",
        "        \n",
        "        if (i+1)==length and gram_info[0] == 'PNCT':\n",
        "            gram_info = ['SENT']\n",
        "            ended = True\n",
        "        \n",
        "            \n",
        "        corpus.write(word[0] + '\\t' + ','.join(gram_info) + '\\n')\n",
        "        lemma = token.xpath('tfr/v/l/@t')[0]\n",
        "        vocab[word[0].lower()].add((','.join(gram_info), lemma.lower()))\n",
        "        tags.add(','.join(gram_info))\n",
        "        c_tags.append(gram_info)\n",
        "    \n",
        "    if not ended:\n",
        "        corpus.write('.\\tSENT\\n')\n"
      ],
      "execution_count": 0,
      "outputs": []
    },
    {
      "cell_type": "code",
      "metadata": {
        "id": "KjeB7tBwx2pR",
        "colab_type": "code",
        "colab": {
          "base_uri": "https://localhost:8080/",
          "height": 191
        },
        "outputId": "9d051dd6-67d4-48ac-97c3-723e541e603b"
      },
      "source": [
        "c_tags[0:10]"
      ],
      "execution_count": 14,
      "outputs": [
        {
          "output_type": "execute_result",
          "data": {
            "text/plain": [
              "[['PNCT'],\n",
              " ['NOUN', 'inan', 'femn', 'sing', 'nomn'],\n",
              " ['NOUN', 'inan', 'neut', 'sing', 'gent'],\n",
              " ['PNCT'],\n",
              " ['VERB', 'impf', 'tran', 'sing', '3per', 'pres', 'indc'],\n",
              " ['INFN', 'perf', 'tran'],\n",
              " ['NOUN', 'inan', 'masc', 'sing', 'accs'],\n",
              " ['VERB', 'perf', 'intr', 'sing', '3per', 'futr', 'indc'],\n",
              " ['PRCL'],\n",
              " ['NOUN', 'inan', 'masc', 'sing', 'nomn']]"
            ]
          },
          "metadata": {
            "tags": []
          },
          "execution_count": 14
        }
      ]
    },
    {
      "cell_type": "code",
      "metadata": {
        "id": "BR3prRvAx4gu",
        "colab_type": "code",
        "colab": {}
      },
      "source": [
        "with open('corpus_train.txt', 'r') as corpus:\n",
        "  corpora = corpus.readlines()"
      ],
      "execution_count": 0,
      "outputs": []
    },
    {
      "cell_type": "code",
      "metadata": {
        "id": "wbxVi3z_x6vP",
        "colab_type": "code",
        "colab": {}
      },
      "source": [
        "#работает как-то не так, как надо, выдает что-то не то...\n",
        "\n",
        "def jacc(t_tags, pred_res):\n",
        "  preds = []\n",
        "  #mistakes = Counter()\n",
        "\n",
        "  for tags, prediction in zip(t_tags, pred_res):\n",
        "    pred = set(prediction.split(','))\n",
        "    tag = set([str(i) for i in tags])\n",
        "    p = len(pred&tag)/len(pred|tag)\n",
        "    preds.append(p)\n",
        "  return preds"
      ],
      "execution_count": 0,
      "outputs": []
    },
    {
      "cell_type": "code",
      "metadata": {
        "id": "6LKKc7yUyasH",
        "colab_type": "code",
        "colab": {}
      },
      "source": [
        "def train(train_set):\n",
        "  with open('lexicon.txt', 'w') as f:\n",
        "    for word in vocab:\n",
        "        f.write(word + '\\t')\n",
        "        f.write('\\t'.join([' '.join(pair) for pair in vocab[word]]))\n",
        "        f.write('\\n')\n",
        "\n",
        "  with open('open_class.txt', 'w') as t:\n",
        "    t.write('\\n'.join([tag for tag in tags if 'NOUN' in tag or 'VERB' in tag or 'ADJF' in tag]))     \n",
        " \n",
        "  !./bin/train-tree-tagger lexicon.txt open_class.txt corpus_train.txt model_oc \n",
        "  return"
      ],
      "execution_count": 0,
      "outputs": []
    },
    {
      "cell_type": "code",
      "metadata": {
        "id": "jIbybe-KycZA",
        "colab_type": "code",
        "colab": {}
      },
      "source": [
        "def test(test_set):\n",
        "  words = []\n",
        "  for sentence in open_corpora.xpath('//tokens'):\n",
        "    tokens = sentence.xpath('token')\n",
        "    for token in tokens:\n",
        "      word = token.xpath('@text')\n",
        "      words.append(str(word))\n",
        "  with open('test_corpus.txt', 'w') as test:\n",
        "    test.write('\\n'.join(words))\n",
        "\n",
        "  !./bin/tree-tagger model_oc test_corpus.txt output.txt\n",
        "  \n",
        "  with open('output.txt', 'r') as r: \n",
        "    output = r.read()\n",
        "  output.split('\\n') \n",
        "  return output"
      ],
      "execution_count": 0,
      "outputs": []
    },
    {
      "cell_type": "code",
      "metadata": {
        "id": "3cdDBcrbyees",
        "colab_type": "code",
        "colab": {}
      },
      "source": [
        "from sklearn.model_selection import KFold\n",
        "n = KFold(n_splits=5)"
      ],
      "execution_count": 0,
      "outputs": []
    },
    {
      "cell_type": "code",
      "metadata": {
        "id": "pMzIYdE20AvA",
        "colab_type": "code",
        "colab": {
          "base_uri": "https://localhost:8080/",
          "height": 2357
        },
        "outputId": "b3e5aa98-654b-4b1d-f495-9852632b54a0"
      },
      "source": [
        "sentences = open_corpora.xpath('//tokens')\n",
        "for train_index, test_index in n.split(np.array(sentences)):\n",
        "  train_set = [sentences[i] for i in train_index]\n",
        "  test_set = [sentences[i] for i in test_index]\n",
        "  train(train_set)\n",
        "  \n",
        "    \n",
        "  !./bin/tree-tagger model_oc test_corpus.txt output.txt\n",
        "  \n"
      ],
      "execution_count": 31,
      "outputs": [
        {
          "output_type": "stream",
          "text": [
            "\n",
            "train-tree-tagger -cl 2 -dtg 0.50 -sw 1.00 -ecw 0.15 -atg 1.20 lexicon.txt open_class.txt corpus_train.txt model_oc\n",
            "\n",
            "\treading the lexicon ...\n",
            "\t\treading the tagset ...\n",
            "\t\treading the lemmas ...\n",
            "\t\treading the entries ...\n",
            "\t\tsorting the lexicon ...\n",
            "\t\treading the open class tags ...\n",
            "\tcalculating tag frequencies ...\n",
            "\r1000\r2000\r3000\r4000\r5000\r6000\r7000\r8000\r9000\r10000\r11000\r12000\r13000\r14000\r15000\r16000\r17000\r18000\r19000\r20000\r21000\r22000\r23000\r24000\r25000\r26000\r27000\r28000\r29000\r30000\r31000\r32000\r33000\r34000\r35000\r36000\r37000\r38000\r39000\r40000\r41000\r42000\r43000\r44000\r45000\r46000\r47000\r48000\r49000\r50000\r51000\r52000\r53000\r54000\r55000\r56000\r57000\r58000\tmaking affix tree ...\n",
            "prefix lexicon: 807 nodes\n",
            "suffix lexicon: 1790 nodes\n",
            "\treading classes ...\n",
            "\tmaking ngram table ...\n",
            "\r1000\t943\r2000\t1734\r3000\t2524\r4000\t3306\r5000\t3893\r6000\t4601\r7000\t5248\r8000\t5815\r9000\t6497\r10000\t7176\r11000\t7832\r12000\t8481\r13000\t9117\r14000\t9726\r15000\t10326\r16000\t10838\r17000\t11403\r18000\t12028\r19000\t12516\r20000\t13106\r21000\t13706\r22000\t14293\r23000\t14802\r24000\t15353\r25000\t15898\r26000\t16444\r27000\t17023\r28000\t17567\r29000\t18099\r30000\t18631\r31000\t19119\r32000\t19623\r33000\t20143\r34000\t20530\r35000\t21043\r36000\t21568\r37000\t22020\r38000\t22417\r39000\t22840\r40000\t23175\r41000\t23611\r42000\t23938\r43000\t24411\r44000\t24714\r45000\t24911\r46000\t25250\r47000\t25579\r48000\t25982\r49000\t26353\r50000\t26782\r51000\t27149\r52000\t27532\r53000\t27930\r54000\t28249\r55000\t28519\r56000\t28795\r57000\t29197\r58000\t29569\r59000\t29942\r60000\t30258\r61000\t30548\r62000\t30894\r63000\t31301\r64000\t31680\r65000\t32127\r66000\t32494\r67000\t32847\r68000\t33100\r69000\t33428\r70000\t33726\r71000\t33986\r71547\t34075\n",
            "finished.\n",
            "\tmaking decision tree ...\n",
            "92\tsaving parameters ...\n",
            "\n",
            "Number of nodes: 93\n",
            "Max. path length: 16\n",
            "\n",
            "done.\n",
            "\treading parameters ...\n",
            "\ttagging ...\n",
            "69000\t finished.\n",
            "\n",
            "train-tree-tagger -cl 2 -dtg 0.50 -sw 1.00 -ecw 0.15 -atg 1.20 lexicon.txt open_class.txt corpus_train.txt model_oc\n",
            "\n",
            "\treading the lexicon ...\n",
            "\t\treading the tagset ...\n",
            "\t\treading the lemmas ...\n",
            "\t\treading the entries ...\n",
            "\t\tsorting the lexicon ...\n",
            "\t\treading the open class tags ...\n",
            "\tcalculating tag frequencies ...\n",
            "58000\tmaking affix tree ...\n",
            "prefix lexicon: 807 nodes\n",
            "suffix lexicon: 1790 nodes\n",
            "\treading classes ...\n",
            "\tmaking ngram table ...\n",
            "71547\t34075\n",
            "finished.\n",
            "\tmaking decision tree ...\n",
            "92\tsaving parameters ...\n",
            "\n",
            "Number of nodes: 93\n",
            "Max. path length: 16\n",
            "\n",
            "done.\n",
            "\treading parameters ...\n",
            "\ttagging ...\n",
            "69000\t finished.\n",
            "\n",
            "train-tree-tagger -cl 2 -dtg 0.50 -sw 1.00 -ecw 0.15 -atg 1.20 lexicon.txt open_class.txt corpus_train.txt model_oc\n",
            "\n",
            "\treading the lexicon ...\n",
            "\t\treading the tagset ...\n",
            "\t\treading the lemmas ...\n",
            "\t\treading the entries ...\n",
            "\t\tsorting the lexicon ...\n",
            "\t\treading the open class tags ...\n",
            "\tcalculating tag frequencies ...\n",
            "58000\tmaking affix tree ...\n",
            "prefix lexicon: 807 nodes\n",
            "suffix lexicon: 1790 nodes\n",
            "\treading classes ...\n",
            "\tmaking ngram table ...\n",
            "71547\t34075\n",
            "finished.\n",
            "\tmaking decision tree ...\n",
            "92\tsaving parameters ...\n",
            "\n",
            "Number of nodes: 93\n",
            "Max. path length: 16\n",
            "\n",
            "done.\n",
            "\treading parameters ...\n",
            "\ttagging ...\n",
            "69000\t finished.\n",
            "\n",
            "train-tree-tagger -cl 2 -dtg 0.50 -sw 1.00 -ecw 0.15 -atg 1.20 lexicon.txt open_class.txt corpus_train.txt model_oc\n",
            "\n",
            "\treading the lexicon ...\n",
            "\t\treading the tagset ...\n",
            "\t\treading the lemmas ...\n",
            "\t\treading the entries ...\n",
            "\t\tsorting the lexicon ...\n",
            "\t\treading the open class tags ...\n",
            "\tcalculating tag frequencies ...\n",
            "58000\tmaking affix tree ...\n",
            "prefix lexicon: 807 nodes\n",
            "suffix lexicon: 1790 nodes\n",
            "\treading classes ...\n",
            "\tmaking ngram table ...\n",
            "71547\t34075\n",
            "finished.\n",
            "\tmaking decision tree ...\n",
            "92\tsaving parameters ...\n",
            "\n",
            "Number of nodes: 93\n",
            "Max. path length: 16\n",
            "\n",
            "done.\n",
            "\treading parameters ...\n",
            "\ttagging ...\n",
            "69000\t finished.\n",
            "\n",
            "train-tree-tagger -cl 2 -dtg 0.50 -sw 1.00 -ecw 0.15 -atg 1.20 lexicon.txt open_class.txt corpus_train.txt model_oc\n",
            "\n",
            "\treading the lexicon ...\n",
            "\t\treading the tagset ...\n",
            "\t\treading the lemmas ...\n",
            "\t\treading the entries ...\n",
            "\t\tsorting the lexicon ...\n",
            "\t\treading the open class tags ...\n",
            "\tcalculating tag frequencies ...\n",
            "58000\tmaking affix tree ...\n",
            "prefix lexicon: 807 nodes\n",
            "suffix lexicon: 1790 nodes\n",
            "\treading classes ...\n",
            "\tmaking ngram table ...\n",
            "71547\t34075\n",
            "finished.\n",
            "\tmaking decision tree ...\n",
            "92\tsaving parameters ...\n",
            "\n",
            "Number of nodes: 93\n",
            "Max. path length: 16\n",
            "\n",
            "done.\n",
            "\treading parameters ...\n",
            "\ttagging ...\n",
            "69000\t finished.\n"
          ],
          "name": "stdout"
        }
      ]
    },
    {
      "cell_type": "code",
      "metadata": {
        "id": "wA6YLulbCkOQ",
        "colab_type": "code",
        "colab": {
          "base_uri": "https://localhost:8080/",
          "height": 87
        },
        "outputId": "5bcc6220-8d81-4f29-9350-8bfd11a7cc2b"
      },
      "source": [
        "words = 'когда я тебя увижу ?'.split(' ')  \n",
        "with open('test_corpus.txt', 'w') as stest:\n",
        "  stest.write('\\n'.join(words))\n",
        "    \n",
        "!./bin/tree-tagger model_oc test_corpus.txt output.txt\n",
        "  \n",
        "r = open('output.txt', 'r')\n",
        "result_test = r.read()\n",
        "print(result_test.split('\\n'))"
      ],
      "execution_count": 36,
      "outputs": [
        {
          "output_type": "stream",
          "text": [
            "\treading parameters ...\n",
            "\ttagging ...\n",
            "\t finished.\n",
            "['CONJ', 'NPRO,1per,sing,nomn', 'NPRO,2per,sing,accs', 'VERB,perf,tran,sing,1per,futr,indc', 'SENT', '']\n"
          ],
          "name": "stdout"
        }
      ]
    },
    {
      "cell_type": "code",
      "metadata": {
        "id": "XqbO3AfQ95Q9",
        "colab_type": "code",
        "colab": {}
      },
      "source": [
        "  for train_index, test_index in n.split(np.array(sentences)):\n",
        "    evaluations = []   \n",
        "    output = test(test_set)\n",
        "    t_tags = [c_tags[i] for i in test_index]\n",
        "    evaluations.append(jacc(t_tags, output))"
      ],
      "execution_count": 0,
      "outputs": []
    },
    {
      "cell_type": "code",
      "metadata": {
        "id": "lgiod3qHB3dy",
        "colab_type": "code",
        "colab": {
          "base_uri": "https://localhost:8080/",
          "height": 35
        },
        "outputId": "3ea57f8d-5fc0-4b8c-de3d-b3297a1e318e"
      },
      "source": [
        "# из-за ошибки в функции с мерой жаккара в итоге ничего не вышло...\n",
        "print(np.mean(evaluations))"
      ],
      "execution_count": 37,
      "outputs": [
        {
          "output_type": "stream",
          "text": [
            "0.0\n"
          ],
          "name": "stdout"
        }
      ]
    },
    {
      "cell_type": "markdown",
      "metadata": {
        "id": "zUTvm68R9Qz8",
        "colab_type": "text"
      },
      "source": [
        "**Оценка качества pymorphy2**"
      ]
    },
    {
      "cell_type": "code",
      "metadata": {
        "id": "5w-TfgPy3nl5",
        "colab_type": "code",
        "colab": {
          "base_uri": "https://localhost:8080/",
          "height": 228
        },
        "outputId": "6fcced90-0c86-4e6a-ca06-8b1d57b35c35"
      },
      "source": [
        "pip install pymorphy2"
      ],
      "execution_count": 22,
      "outputs": [
        {
          "output_type": "stream",
          "text": [
            "Collecting pymorphy2\n",
            "\u001b[?25l  Downloading https://files.pythonhosted.org/packages/a3/33/fff9675c68b5f6c63ec8c6e6ff57827dda28a1fa5b2c2d727dffff92dd47/pymorphy2-0.8-py2.py3-none-any.whl (46kB)\n",
            "\r\u001b[K     |███████                         | 10kB 17.4MB/s eta 0:00:01\r\u001b[K     |██████████████▏                 | 20kB 2.2MB/s eta 0:00:01\r\u001b[K     |█████████████████████▎          | 30kB 3.3MB/s eta 0:00:01\r\u001b[K     |████████████████████████████▍   | 40kB 2.1MB/s eta 0:00:01\r\u001b[K     |████████████████████████████████| 51kB 2.5MB/s \n",
            "\u001b[?25hCollecting dawg-python>=0.7 (from pymorphy2)\n",
            "  Downloading https://files.pythonhosted.org/packages/6a/84/ff1ce2071d4c650ec85745766c0047ccc3b5036f1d03559fd46bb38b5eeb/DAWG_Python-0.7.2-py2.py3-none-any.whl\n",
            "Requirement already satisfied: docopt>=0.6 in /usr/local/lib/python3.6/dist-packages (from pymorphy2) (0.6.2)\n",
            "Collecting pymorphy2-dicts<3.0,>=2.4 (from pymorphy2)\n",
            "\u001b[?25l  Downloading https://files.pythonhosted.org/packages/02/51/2465fd4f72328ab50877b54777764d928da8cb15b74e2680fc1bd8cb3173/pymorphy2_dicts-2.4.393442.3710985-py2.py3-none-any.whl (7.1MB)\n",
            "\u001b[K     |████████████████████████████████| 7.1MB 9.8MB/s \n",
            "\u001b[?25hInstalling collected packages: dawg-python, pymorphy2-dicts, pymorphy2\n",
            "Successfully installed dawg-python-0.7.2 pymorphy2-0.8 pymorphy2-dicts-2.4.393442.3710985\n"
          ],
          "name": "stdout"
        }
      ]
    },
    {
      "cell_type": "code",
      "metadata": {
        "id": "Qfw-hBxV3nx6",
        "colab_type": "code",
        "colab": {}
      },
      "source": [
        "from pymorphy2 import MorphAnalyzer\n",
        "morph = MorphAnalyzer()"
      ],
      "execution_count": 0,
      "outputs": []
    },
    {
      "cell_type": "code",
      "metadata": {
        "id": "TkIp9GNH4WXi",
        "colab_type": "code",
        "colab": {}
      },
      "source": [
        "arr = []\n",
        "for line in corpora:\n",
        "  arr.append(line)\n",
        "with open('pymorphy_test.txt', 'w') as f:\n",
        "      f.write('\\n'.join(arr))"
      ],
      "execution_count": 0,
      "outputs": []
    },
    {
      "cell_type": "code",
      "metadata": {
        "id": "4t06EpPc3n41",
        "colab_type": "code",
        "colab": {
          "base_uri": "https://localhost:8080/",
          "height": 35
        },
        "outputId": "3cf064fa-b83b-4d93-dc66-292efe9c6188"
      },
      "source": [
        "with open('pymorphy_test.txt', 'r') as g:\n",
        "  good = g.read().split('\\n\\n')\n",
        "good_arr = [i.split('\\t') for i in good]\n",
        "preds = []\n",
        "#mistakes = Counter()\n",
        "for i in range(len(good_arr)):\n",
        "  word = good_arr[i][0]\n",
        "  tag = set(good_arr[i][1].split(','))\n",
        "  pred = set(str(morph.parse(word)[0].tag).replace(' ', ',').split(','))\n",
        "  p = len(pred&tag)/len(pred|tag)\n",
        "  preds.append(p)\n",
        "    \n",
        "print(np.mean(preds))"
      ],
      "execution_count": 30,
      "outputs": [
        {
          "output_type": "stream",
          "text": [
            "0.7876107950702274\n"
          ],
          "name": "stdout"
        }
      ]
    }
  ]
}